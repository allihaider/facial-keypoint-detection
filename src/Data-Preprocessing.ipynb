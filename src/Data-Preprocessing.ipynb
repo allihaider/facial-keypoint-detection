{
 "cells": [
  {
   "cell_type": "code",
   "execution_count": 140,
   "id": "143ad962",
   "metadata": {},
   "outputs": [],
   "source": [
    "import pandas as pd\n",
    "import numpy as np\n",
    "from sklearn.model_selection import train_test_split\n",
    "import tensorflow as tf\n",
    "from imgaug.augmentables.kps import KeypointsOnImage\n",
    "from imgaug.augmentables.kps import Keypoint\n",
    "import imgaug.augmenters as iaa\n",
    "import keras"
   ]
  },
  {
   "cell_type": "code",
   "execution_count": 141,
   "id": "b37859f8",
   "metadata": {},
   "outputs": [],
   "source": [
    "def get_image_from_string(image_pixels_string):\n",
    "    \n",
    "    image_pixels_list = [int(point) for point in image_pixels_string.split(\" \")]\n",
    "    image_side = int(np.sqrt(len(image_pixels_list)))\n",
    "    image = np.reshape(image_pixels_list, (image_side, image_side))\n",
    "    image = np.expand_dims(image, 2)\n",
    "    \n",
    "    return image"
   ]
  },
  {
   "cell_type": "code",
   "execution_count": 142,
   "id": "473c52cf",
   "metadata": {},
   "outputs": [],
   "source": [
    "train_df = pd.read_csv(\"../data/training.csv\")"
   ]
  },
  {
   "cell_type": "code",
   "execution_count": 143,
   "id": "80394640",
   "metadata": {},
   "outputs": [
    {
     "data": {
      "text/html": [
       "<div>\n",
       "<style scoped>\n",
       "    .dataframe tbody tr th:only-of-type {\n",
       "        vertical-align: middle;\n",
       "    }\n",
       "\n",
       "    .dataframe tbody tr th {\n",
       "        vertical-align: top;\n",
       "    }\n",
       "\n",
       "    .dataframe thead th {\n",
       "        text-align: right;\n",
       "    }\n",
       "</style>\n",
       "<table border=\"1\" class=\"dataframe\">\n",
       "  <thead>\n",
       "    <tr style=\"text-align: right;\">\n",
       "      <th></th>\n",
       "      <th>left_eye_center_x</th>\n",
       "      <th>left_eye_center_y</th>\n",
       "      <th>right_eye_center_x</th>\n",
       "      <th>right_eye_center_y</th>\n",
       "      <th>left_eye_inner_corner_x</th>\n",
       "      <th>left_eye_inner_corner_y</th>\n",
       "      <th>left_eye_outer_corner_x</th>\n",
       "      <th>left_eye_outer_corner_y</th>\n",
       "      <th>right_eye_inner_corner_x</th>\n",
       "      <th>right_eye_inner_corner_y</th>\n",
       "      <th>...</th>\n",
       "      <th>nose_tip_y</th>\n",
       "      <th>mouth_left_corner_x</th>\n",
       "      <th>mouth_left_corner_y</th>\n",
       "      <th>mouth_right_corner_x</th>\n",
       "      <th>mouth_right_corner_y</th>\n",
       "      <th>mouth_center_top_lip_x</th>\n",
       "      <th>mouth_center_top_lip_y</th>\n",
       "      <th>mouth_center_bottom_lip_x</th>\n",
       "      <th>mouth_center_bottom_lip_y</th>\n",
       "      <th>Image</th>\n",
       "    </tr>\n",
       "  </thead>\n",
       "  <tbody>\n",
       "    <tr>\n",
       "      <th>0</th>\n",
       "      <td>66.033564</td>\n",
       "      <td>39.002274</td>\n",
       "      <td>30.227008</td>\n",
       "      <td>36.421678</td>\n",
       "      <td>59.582075</td>\n",
       "      <td>39.647423</td>\n",
       "      <td>73.130346</td>\n",
       "      <td>39.969997</td>\n",
       "      <td>36.356571</td>\n",
       "      <td>37.389402</td>\n",
       "      <td>...</td>\n",
       "      <td>57.066803</td>\n",
       "      <td>61.195308</td>\n",
       "      <td>79.970165</td>\n",
       "      <td>28.614496</td>\n",
       "      <td>77.388992</td>\n",
       "      <td>43.312602</td>\n",
       "      <td>72.935459</td>\n",
       "      <td>43.130707</td>\n",
       "      <td>84.485774</td>\n",
       "      <td>238 236 237 238 240 240 239 241 241 243 240 23...</td>\n",
       "    </tr>\n",
       "    <tr>\n",
       "      <th>1</th>\n",
       "      <td>64.332936</td>\n",
       "      <td>34.970077</td>\n",
       "      <td>29.949277</td>\n",
       "      <td>33.448715</td>\n",
       "      <td>58.856170</td>\n",
       "      <td>35.274349</td>\n",
       "      <td>70.722723</td>\n",
       "      <td>36.187166</td>\n",
       "      <td>36.034723</td>\n",
       "      <td>34.361532</td>\n",
       "      <td>...</td>\n",
       "      <td>55.660936</td>\n",
       "      <td>56.421447</td>\n",
       "      <td>76.352000</td>\n",
       "      <td>35.122383</td>\n",
       "      <td>76.047660</td>\n",
       "      <td>46.684596</td>\n",
       "      <td>70.266553</td>\n",
       "      <td>45.467915</td>\n",
       "      <td>85.480170</td>\n",
       "      <td>219 215 204 196 204 211 212 200 180 168 178 19...</td>\n",
       "    </tr>\n",
       "    <tr>\n",
       "      <th>2</th>\n",
       "      <td>65.057053</td>\n",
       "      <td>34.909642</td>\n",
       "      <td>30.903789</td>\n",
       "      <td>34.909642</td>\n",
       "      <td>59.412000</td>\n",
       "      <td>36.320968</td>\n",
       "      <td>70.984421</td>\n",
       "      <td>36.320968</td>\n",
       "      <td>37.678105</td>\n",
       "      <td>36.320968</td>\n",
       "      <td>...</td>\n",
       "      <td>53.538947</td>\n",
       "      <td>60.822947</td>\n",
       "      <td>73.014316</td>\n",
       "      <td>33.726316</td>\n",
       "      <td>72.732000</td>\n",
       "      <td>47.274947</td>\n",
       "      <td>70.191789</td>\n",
       "      <td>47.274947</td>\n",
       "      <td>78.659368</td>\n",
       "      <td>144 142 159 180 188 188 184 180 167 132 84 59 ...</td>\n",
       "    </tr>\n",
       "    <tr>\n",
       "      <th>3</th>\n",
       "      <td>65.225739</td>\n",
       "      <td>37.261774</td>\n",
       "      <td>32.023096</td>\n",
       "      <td>37.261774</td>\n",
       "      <td>60.003339</td>\n",
       "      <td>39.127179</td>\n",
       "      <td>72.314713</td>\n",
       "      <td>38.380967</td>\n",
       "      <td>37.618643</td>\n",
       "      <td>38.754115</td>\n",
       "      <td>...</td>\n",
       "      <td>54.166539</td>\n",
       "      <td>65.598887</td>\n",
       "      <td>72.703722</td>\n",
       "      <td>37.245496</td>\n",
       "      <td>74.195478</td>\n",
       "      <td>50.303165</td>\n",
       "      <td>70.091687</td>\n",
       "      <td>51.561183</td>\n",
       "      <td>78.268383</td>\n",
       "      <td>193 192 193 194 194 194 193 192 168 111 50 12 ...</td>\n",
       "    </tr>\n",
       "    <tr>\n",
       "      <th>4</th>\n",
       "      <td>66.725301</td>\n",
       "      <td>39.621261</td>\n",
       "      <td>32.244810</td>\n",
       "      <td>38.042032</td>\n",
       "      <td>58.565890</td>\n",
       "      <td>39.621261</td>\n",
       "      <td>72.515926</td>\n",
       "      <td>39.884466</td>\n",
       "      <td>36.982380</td>\n",
       "      <td>39.094852</td>\n",
       "      <td>...</td>\n",
       "      <td>64.889521</td>\n",
       "      <td>60.671411</td>\n",
       "      <td>77.523239</td>\n",
       "      <td>31.191755</td>\n",
       "      <td>76.997301</td>\n",
       "      <td>44.962748</td>\n",
       "      <td>73.707387</td>\n",
       "      <td>44.227141</td>\n",
       "      <td>86.871166</td>\n",
       "      <td>147 148 160 196 215 214 216 217 219 220 206 18...</td>\n",
       "    </tr>\n",
       "    <tr>\n",
       "      <th>...</th>\n",
       "      <td>...</td>\n",
       "      <td>...</td>\n",
       "      <td>...</td>\n",
       "      <td>...</td>\n",
       "      <td>...</td>\n",
       "      <td>...</td>\n",
       "      <td>...</td>\n",
       "      <td>...</td>\n",
       "      <td>...</td>\n",
       "      <td>...</td>\n",
       "      <td>...</td>\n",
       "      <td>...</td>\n",
       "      <td>...</td>\n",
       "      <td>...</td>\n",
       "      <td>...</td>\n",
       "      <td>...</td>\n",
       "      <td>...</td>\n",
       "      <td>...</td>\n",
       "      <td>...</td>\n",
       "      <td>...</td>\n",
       "      <td>...</td>\n",
       "    </tr>\n",
       "    <tr>\n",
       "      <th>7044</th>\n",
       "      <td>67.402546</td>\n",
       "      <td>31.842551</td>\n",
       "      <td>29.746749</td>\n",
       "      <td>38.632942</td>\n",
       "      <td>NaN</td>\n",
       "      <td>NaN</td>\n",
       "      <td>NaN</td>\n",
       "      <td>NaN</td>\n",
       "      <td>NaN</td>\n",
       "      <td>NaN</td>\n",
       "      <td>...</td>\n",
       "      <td>67.029093</td>\n",
       "      <td>NaN</td>\n",
       "      <td>NaN</td>\n",
       "      <td>NaN</td>\n",
       "      <td>NaN</td>\n",
       "      <td>NaN</td>\n",
       "      <td>NaN</td>\n",
       "      <td>50.426637</td>\n",
       "      <td>79.683921</td>\n",
       "      <td>71 74 85 105 116 128 139 150 170 187 201 209 2...</td>\n",
       "    </tr>\n",
       "    <tr>\n",
       "      <th>7045</th>\n",
       "      <td>66.134400</td>\n",
       "      <td>38.365501</td>\n",
       "      <td>30.478626</td>\n",
       "      <td>39.950198</td>\n",
       "      <td>NaN</td>\n",
       "      <td>NaN</td>\n",
       "      <td>NaN</td>\n",
       "      <td>NaN</td>\n",
       "      <td>NaN</td>\n",
       "      <td>NaN</td>\n",
       "      <td>...</td>\n",
       "      <td>66.626011</td>\n",
       "      <td>NaN</td>\n",
       "      <td>NaN</td>\n",
       "      <td>NaN</td>\n",
       "      <td>NaN</td>\n",
       "      <td>NaN</td>\n",
       "      <td>NaN</td>\n",
       "      <td>50.287397</td>\n",
       "      <td>77.983023</td>\n",
       "      <td>60 60 62 57 55 51 49 48 50 53 56 56 106 89 77 ...</td>\n",
       "    </tr>\n",
       "    <tr>\n",
       "      <th>7046</th>\n",
       "      <td>66.690732</td>\n",
       "      <td>36.845221</td>\n",
       "      <td>31.666420</td>\n",
       "      <td>39.685042</td>\n",
       "      <td>NaN</td>\n",
       "      <td>NaN</td>\n",
       "      <td>NaN</td>\n",
       "      <td>NaN</td>\n",
       "      <td>NaN</td>\n",
       "      <td>NaN</td>\n",
       "      <td>...</td>\n",
       "      <td>67.515161</td>\n",
       "      <td>NaN</td>\n",
       "      <td>NaN</td>\n",
       "      <td>NaN</td>\n",
       "      <td>NaN</td>\n",
       "      <td>NaN</td>\n",
       "      <td>NaN</td>\n",
       "      <td>49.462572</td>\n",
       "      <td>78.117120</td>\n",
       "      <td>74 74 74 78 79 79 79 81 77 78 80 73 72 81 77 1...</td>\n",
       "    </tr>\n",
       "    <tr>\n",
       "      <th>7047</th>\n",
       "      <td>70.965082</td>\n",
       "      <td>39.853666</td>\n",
       "      <td>30.543285</td>\n",
       "      <td>40.772339</td>\n",
       "      <td>NaN</td>\n",
       "      <td>NaN</td>\n",
       "      <td>NaN</td>\n",
       "      <td>NaN</td>\n",
       "      <td>NaN</td>\n",
       "      <td>NaN</td>\n",
       "      <td>...</td>\n",
       "      <td>66.724988</td>\n",
       "      <td>NaN</td>\n",
       "      <td>NaN</td>\n",
       "      <td>NaN</td>\n",
       "      <td>NaN</td>\n",
       "      <td>NaN</td>\n",
       "      <td>NaN</td>\n",
       "      <td>50.065186</td>\n",
       "      <td>79.586447</td>\n",
       "      <td>254 254 254 254 254 238 193 145 121 118 119 10...</td>\n",
       "    </tr>\n",
       "    <tr>\n",
       "      <th>7048</th>\n",
       "      <td>66.938311</td>\n",
       "      <td>43.424510</td>\n",
       "      <td>31.096059</td>\n",
       "      <td>39.528604</td>\n",
       "      <td>NaN</td>\n",
       "      <td>NaN</td>\n",
       "      <td>NaN</td>\n",
       "      <td>NaN</td>\n",
       "      <td>NaN</td>\n",
       "      <td>NaN</td>\n",
       "      <td>...</td>\n",
       "      <td>73.033339</td>\n",
       "      <td>NaN</td>\n",
       "      <td>NaN</td>\n",
       "      <td>NaN</td>\n",
       "      <td>NaN</td>\n",
       "      <td>NaN</td>\n",
       "      <td>NaN</td>\n",
       "      <td>45.900480</td>\n",
       "      <td>82.773096</td>\n",
       "      <td>53 62 67 76 86 91 97 105 105 106 107 108 112 1...</td>\n",
       "    </tr>\n",
       "  </tbody>\n",
       "</table>\n",
       "<p>7049 rows × 31 columns</p>\n",
       "</div>"
      ],
      "text/plain": [
       "      left_eye_center_x  left_eye_center_y  right_eye_center_x  \\\n",
       "0             66.033564          39.002274           30.227008   \n",
       "1             64.332936          34.970077           29.949277   \n",
       "2             65.057053          34.909642           30.903789   \n",
       "3             65.225739          37.261774           32.023096   \n",
       "4             66.725301          39.621261           32.244810   \n",
       "...                 ...                ...                 ...   \n",
       "7044          67.402546          31.842551           29.746749   \n",
       "7045          66.134400          38.365501           30.478626   \n",
       "7046          66.690732          36.845221           31.666420   \n",
       "7047          70.965082          39.853666           30.543285   \n",
       "7048          66.938311          43.424510           31.096059   \n",
       "\n",
       "      right_eye_center_y  left_eye_inner_corner_x  left_eye_inner_corner_y  \\\n",
       "0              36.421678                59.582075                39.647423   \n",
       "1              33.448715                58.856170                35.274349   \n",
       "2              34.909642                59.412000                36.320968   \n",
       "3              37.261774                60.003339                39.127179   \n",
       "4              38.042032                58.565890                39.621261   \n",
       "...                  ...                      ...                      ...   \n",
       "7044           38.632942                      NaN                      NaN   \n",
       "7045           39.950198                      NaN                      NaN   \n",
       "7046           39.685042                      NaN                      NaN   \n",
       "7047           40.772339                      NaN                      NaN   \n",
       "7048           39.528604                      NaN                      NaN   \n",
       "\n",
       "      left_eye_outer_corner_x  left_eye_outer_corner_y  \\\n",
       "0                   73.130346                39.969997   \n",
       "1                   70.722723                36.187166   \n",
       "2                   70.984421                36.320968   \n",
       "3                   72.314713                38.380967   \n",
       "4                   72.515926                39.884466   \n",
       "...                       ...                      ...   \n",
       "7044                      NaN                      NaN   \n",
       "7045                      NaN                      NaN   \n",
       "7046                      NaN                      NaN   \n",
       "7047                      NaN                      NaN   \n",
       "7048                      NaN                      NaN   \n",
       "\n",
       "      right_eye_inner_corner_x  right_eye_inner_corner_y  ...  nose_tip_y  \\\n",
       "0                    36.356571                 37.389402  ...   57.066803   \n",
       "1                    36.034723                 34.361532  ...   55.660936   \n",
       "2                    37.678105                 36.320968  ...   53.538947   \n",
       "3                    37.618643                 38.754115  ...   54.166539   \n",
       "4                    36.982380                 39.094852  ...   64.889521   \n",
       "...                        ...                       ...  ...         ...   \n",
       "7044                       NaN                       NaN  ...   67.029093   \n",
       "7045                       NaN                       NaN  ...   66.626011   \n",
       "7046                       NaN                       NaN  ...   67.515161   \n",
       "7047                       NaN                       NaN  ...   66.724988   \n",
       "7048                       NaN                       NaN  ...   73.033339   \n",
       "\n",
       "      mouth_left_corner_x  mouth_left_corner_y  mouth_right_corner_x  \\\n",
       "0               61.195308            79.970165             28.614496   \n",
       "1               56.421447            76.352000             35.122383   \n",
       "2               60.822947            73.014316             33.726316   \n",
       "3               65.598887            72.703722             37.245496   \n",
       "4               60.671411            77.523239             31.191755   \n",
       "...                   ...                  ...                   ...   \n",
       "7044                  NaN                  NaN                   NaN   \n",
       "7045                  NaN                  NaN                   NaN   \n",
       "7046                  NaN                  NaN                   NaN   \n",
       "7047                  NaN                  NaN                   NaN   \n",
       "7048                  NaN                  NaN                   NaN   \n",
       "\n",
       "      mouth_right_corner_y  mouth_center_top_lip_x  mouth_center_top_lip_y  \\\n",
       "0                77.388992               43.312602               72.935459   \n",
       "1                76.047660               46.684596               70.266553   \n",
       "2                72.732000               47.274947               70.191789   \n",
       "3                74.195478               50.303165               70.091687   \n",
       "4                76.997301               44.962748               73.707387   \n",
       "...                    ...                     ...                     ...   \n",
       "7044                   NaN                     NaN                     NaN   \n",
       "7045                   NaN                     NaN                     NaN   \n",
       "7046                   NaN                     NaN                     NaN   \n",
       "7047                   NaN                     NaN                     NaN   \n",
       "7048                   NaN                     NaN                     NaN   \n",
       "\n",
       "      mouth_center_bottom_lip_x  mouth_center_bottom_lip_y  \\\n",
       "0                     43.130707                  84.485774   \n",
       "1                     45.467915                  85.480170   \n",
       "2                     47.274947                  78.659368   \n",
       "3                     51.561183                  78.268383   \n",
       "4                     44.227141                  86.871166   \n",
       "...                         ...                        ...   \n",
       "7044                  50.426637                  79.683921   \n",
       "7045                  50.287397                  77.983023   \n",
       "7046                  49.462572                  78.117120   \n",
       "7047                  50.065186                  79.586447   \n",
       "7048                  45.900480                  82.773096   \n",
       "\n",
       "                                                  Image  \n",
       "0     238 236 237 238 240 240 239 241 241 243 240 23...  \n",
       "1     219 215 204 196 204 211 212 200 180 168 178 19...  \n",
       "2     144 142 159 180 188 188 184 180 167 132 84 59 ...  \n",
       "3     193 192 193 194 194 194 193 192 168 111 50 12 ...  \n",
       "4     147 148 160 196 215 214 216 217 219 220 206 18...  \n",
       "...                                                 ...  \n",
       "7044  71 74 85 105 116 128 139 150 170 187 201 209 2...  \n",
       "7045  60 60 62 57 55 51 49 48 50 53 56 56 106 89 77 ...  \n",
       "7046  74 74 74 78 79 79 79 81 77 78 80 73 72 81 77 1...  \n",
       "7047  254 254 254 254 254 238 193 145 121 118 119 10...  \n",
       "7048  53 62 67 76 86 91 97 105 105 106 107 108 112 1...  \n",
       "\n",
       "[7049 rows x 31 columns]"
      ]
     },
     "execution_count": 143,
     "metadata": {},
     "output_type": "execute_result"
    }
   ],
   "source": [
    "train_df"
   ]
  },
  {
   "cell_type": "code",
   "execution_count": 152,
   "id": "e912468e",
   "metadata": {},
   "outputs": [],
   "source": [
    "train_df = train_df.fillna(0)"
   ]
  },
  {
   "cell_type": "code",
   "execution_count": 153,
   "id": "f09701df",
   "metadata": {},
   "outputs": [],
   "source": [
    "no_rows, no_columns = train_df.shape"
   ]
  },
  {
   "cell_type": "code",
   "execution_count": 154,
   "id": "82db79d4",
   "metadata": {},
   "outputs": [],
   "source": [
    "labels = []\n",
    "\n",
    "for i in range(no_rows):\n",
    "    labels.append(train_df.iloc[i][:-1].values.astype(float))"
   ]
  },
  {
   "cell_type": "code",
   "execution_count": 155,
   "id": "8020fddf",
   "metadata": {},
   "outputs": [],
   "source": [
    "images = []\n",
    "\n",
    "for i in range(no_rows):\n",
    "    images.append(get_image_from_string(train_df.iloc[i][\"Image\"]).astype(float))"
   ]
  },
  {
   "cell_type": "code",
   "execution_count": 156,
   "id": "cb79495a",
   "metadata": {},
   "outputs": [
    {
     "data": {
      "text/plain": [
       "array([66.93831111, 43.42450963, 31.09605926, 39.52860444,  0.        ,\n",
       "        0.        ,  0.        ,  0.        ,  0.        ,  0.        ,\n",
       "        0.        ,  0.        ,  0.        ,  0.        ,  0.        ,\n",
       "        0.        ,  0.        ,  0.        ,  0.        ,  0.        ,\n",
       "       47.06925037, 73.03333926,  0.        ,  0.        ,  0.        ,\n",
       "        0.        ,  0.        ,  0.        , 45.90048   , 82.7730963 ])"
      ]
     },
     "execution_count": 156,
     "metadata": {},
     "output_type": "execute_result"
    }
   ],
   "source": [
    "labels[7048]"
   ]
  },
  {
   "cell_type": "code",
   "execution_count": 157,
   "id": "777bfc9b",
   "metadata": {
    "scrolled": true
   },
   "outputs": [],
   "source": [
    "X_train, X_val, y_train, y_val = train_test_split(images, labels, test_size=0.1, random_state=42)"
   ]
  },
  {
   "cell_type": "code",
   "execution_count": 158,
   "id": "e2cf60b7",
   "metadata": {},
   "outputs": [
    {
     "name": "stderr",
     "output_type": "stream",
     "text": [
      "2021-08-10 00:17:19.284542: W tensorflow/core/framework/cpu_allocator_impl.cc:80] Allocation of 467730432 exceeds 10% of free system memory.\n"
     ]
    }
   ],
   "source": [
    "X_train = tf.convert_to_tensor(X_train)\n",
    "X_val = tf.convert_to_tensor(X_val)\n",
    "y_train = tf.convert_to_tensor(y_train)\n",
    "y_val = tf.convert_to_tensor(y_val)"
   ]
  },
  {
   "cell_type": "code",
   "execution_count": 159,
   "id": "8e8322cf",
   "metadata": {},
   "outputs": [],
   "source": [
    "m = y_val[0]"
   ]
  },
  {
   "cell_type": "code",
   "execution_count": 160,
   "id": "7434575f",
   "metadata": {},
   "outputs": [
    {
     "data": {
      "text/plain": [
       "<tf.Tensor: shape=(30,), dtype=float64, numpy=\n",
       "array([68.57394286, 39.49881143, 29.47222857, 38.77469714,  0.        ,\n",
       "        0.        ,  0.        ,  0.        ,  0.        ,  0.        ,\n",
       "        0.        ,  0.        ,  0.        ,  0.        ,  0.        ,\n",
       "        0.        ,  0.        ,  0.        ,  0.        ,  0.        ,\n",
       "       47.57485714, 73.16980571,  0.        ,  0.        ,  0.        ,\n",
       "        0.        ,  0.        ,  0.        , 45.76457143, 88.37606857])>"
      ]
     },
     "execution_count": 160,
     "metadata": {},
     "output_type": "execute_result"
    }
   ],
   "source": [
    "m"
   ]
  },
  {
   "cell_type": "code",
   "execution_count": 161,
   "id": "0b49abec",
   "metadata": {},
   "outputs": [
    {
     "name": "stdout",
     "output_type": "stream",
     "text": [
      "tf.Tensor(68.5739428571, shape=(), dtype=float64) tf.Tensor(39.4988114286, shape=(), dtype=float64)\n",
      "tf.Tensor(29.4722285714, shape=(), dtype=float64) tf.Tensor(38.7746971429, shape=(), dtype=float64)\n",
      "tf.Tensor(0.0, shape=(), dtype=float64) tf.Tensor(0.0, shape=(), dtype=float64)\n",
      "tf.Tensor(0.0, shape=(), dtype=float64) tf.Tensor(0.0, shape=(), dtype=float64)\n",
      "tf.Tensor(0.0, shape=(), dtype=float64) tf.Tensor(0.0, shape=(), dtype=float64)\n",
      "tf.Tensor(0.0, shape=(), dtype=float64) tf.Tensor(0.0, shape=(), dtype=float64)\n",
      "tf.Tensor(0.0, shape=(), dtype=float64) tf.Tensor(0.0, shape=(), dtype=float64)\n",
      "tf.Tensor(0.0, shape=(), dtype=float64) tf.Tensor(0.0, shape=(), dtype=float64)\n",
      "tf.Tensor(0.0, shape=(), dtype=float64) tf.Tensor(0.0, shape=(), dtype=float64)\n",
      "tf.Tensor(0.0, shape=(), dtype=float64) tf.Tensor(0.0, shape=(), dtype=float64)\n",
      "tf.Tensor(47.5748571429, shape=(), dtype=float64) tf.Tensor(73.1698057143, shape=(), dtype=float64)\n",
      "tf.Tensor(0.0, shape=(), dtype=float64) tf.Tensor(0.0, shape=(), dtype=float64)\n",
      "tf.Tensor(0.0, shape=(), dtype=float64) tf.Tensor(0.0, shape=(), dtype=float64)\n",
      "tf.Tensor(0.0, shape=(), dtype=float64) tf.Tensor(0.0, shape=(), dtype=float64)\n",
      "tf.Tensor(45.7645714286, shape=(), dtype=float64) tf.Tensor(88.3760685714, shape=(), dtype=float64)\n"
     ]
    }
   ],
   "source": [
    "for i in np.arange(0, len(m), 2):\n",
    "    print(m[i], m[i+1])"
   ]
  },
  {
   "cell_type": "code",
   "execution_count": 199,
   "id": "07fbeb56",
   "metadata": {},
   "outputs": [],
   "source": [
    "BATCH_SIZE = 10\n",
    "IMG_SIZE = 96\n",
    "NUM_KEYPOINTS = 30"
   ]
  },
  {
   "cell_type": "code",
   "execution_count": 221,
   "id": "1cdfe60b",
   "metadata": {},
   "outputs": [],
   "source": [
    "class KeyPointsDataset(tf.keras.utils.Sequence):\n",
    "    \n",
    "    def __init__(self, images, keypoints, augmentations, batch_size=BATCH_SIZE, train=True):\n",
    "        self.images = images\n",
    "        self.keypoints = keypoints\n",
    "        self.augmentations = augmentations\n",
    "        self.batch_size = batch_size\n",
    "        self.train = train\n",
    "        self.indexes = np.arange(len(self.images))\n",
    "\n",
    "    def __len__(self):\n",
    "        return len(images) // self.batch_size\n",
    "\n",
    "    def __getitem__(self, index):\n",
    "        indexes = self.indexes[index * self.batch_size : (index + 1) * self.batch_size]\n",
    "        images = [self.images[k] for k in indexes]\n",
    "        keypoints = [self.keypoints[k] for k in indexes]\n",
    "        (images, keypoints) = self.__data_generation(images, keypoints)\n",
    "\n",
    "        return (images, keypoints)\n",
    "\n",
    "    def __data_generation(self, images, keypoints):\n",
    "        batch_images = np.empty((self.batch_size, IMG_SIZE, IMG_SIZE, 1), dtype=\"float32\")\n",
    "        batch_keypoints = np.empty((self.batch_size, NUM_KEYPOINTS), dtype=\"float32\")\n",
    "\n",
    "        for image, keypoint in zip(images, keypoints):\n",
    "            keypoint_pairs = []\n",
    "            \n",
    "            for i in np.arange(0, len(keypoint), 2):\n",
    "                keypoint_pairs.append(Keypoint(x=int(keypoint[i]), y=int(keypoint[i+1])))\n",
    "#             print(keypoint_pairs)\n",
    "            kps_obj = KeypointsOnImage(keypoint_pairs, shape=image.shape)\n",
    "            (new_image, new_kps_obj) = self.augmentations(image=image, keypoints=kps_obj)\n",
    "            np.append(batch_images, new_image)\n",
    "            kp_temp = []\n",
    "            \n",
    "            for keypoint in new_kps_obj:\n",
    "                kp_temp.append(np.nan_to_num(keypoint.x))\n",
    "                kp_temp.append(np.nan_to_num(keypoint.y))\n",
    "\n",
    "            np.append(batch_keypoints, kp_temp)\n",
    "        \n",
    "        batch_keypoints = batch_keypoints / IMG_SIZE\n",
    "        \n",
    "        return (batch_images, batch_keypoints)"
   ]
  },
  {
   "cell_type": "code",
   "execution_count": 222,
   "id": "cfd4da44",
   "metadata": {},
   "outputs": [],
   "source": [
    "train_aug = iaa.Sequential(\n",
    "    [\n",
    "        iaa.Resize(IMG_SIZE, interpolation=\"linear\"),\n",
    "        iaa.Fliplr(0.3),\n",
    "        # `Sometimes()` applies a function randomly to the inputs with\n",
    "        # a given probability (0.3, in this case).\n",
    "        iaa.Sometimes(0.3, iaa.Affine(rotate=10, scale=(0.5, 0.7))),\n",
    "    ]\n",
    ")\n",
    "\n",
    "test_aug = iaa.Sequential([iaa.Resize(IMG_SIZE, interpolation=\"linear\")])"
   ]
  },
  {
   "cell_type": "code",
   "execution_count": 223,
   "id": "308d074a",
   "metadata": {},
   "outputs": [],
   "source": [
    "train_dataset = KeyPointsDataset(images, labels, train_aug)"
   ]
  },
  {
   "cell_type": "code",
   "execution_count": 224,
   "id": "4c4f72e7",
   "metadata": {},
   "outputs": [],
   "source": [
    "sample_images, sample_keypoints = next(iter(train_dataset))"
   ]
  },
  {
   "cell_type": "code",
   "execution_count": 225,
   "id": "fc617c4c",
   "metadata": {},
   "outputs": [
    {
     "data": {
      "text/plain": [
       "(10, 96, 96, 1)"
      ]
     },
     "execution_count": 225,
     "metadata": {},
     "output_type": "execute_result"
    }
   ],
   "source": [
    "sample_images.shape"
   ]
  },
  {
   "cell_type": "code",
   "execution_count": 226,
   "id": "8f6baf78",
   "metadata": {},
   "outputs": [
    {
     "data": {
      "text/plain": [
       "(10, 30)"
      ]
     },
     "execution_count": 226,
     "metadata": {},
     "output_type": "execute_result"
    }
   ],
   "source": [
    "sample_keypoints.shape"
   ]
  },
  {
   "cell_type": "code",
   "execution_count": 227,
   "id": "dcf3f277",
   "metadata": {},
   "outputs": [],
   "source": [
    "import matplotlib.pyplot as plt"
   ]
  },
  {
   "cell_type": "code",
   "execution_count": 228,
   "id": "40cf36eb",
   "metadata": {},
   "outputs": [],
   "source": [
    "def display_image(image):\n",
    "    \n",
    "    plt.figure()\n",
    "    plt.imshow(image, cmap=\"gray\")\n",
    "    \n",
    "    return\n",
    "\n",
    "def get_image_keypoints(index):\n",
    "    \n",
    "    keypoints = train_df.iloc[index][:-1].values\n",
    "    \n",
    "    return keypoints\n",
    "\n",
    "def draw_keypoints(image, keypoints):\n",
    "    \n",
    "    for i in np.linspace(0, len(keypoints)-2, 15, dtype=int):\n",
    "        if math.isnan(keypoints[i]) or math.isnan(keypoints[i+1]):\n",
    "            continue\n",
    "        image[int(keypoints[i+1]), int(keypoints[i])] = 255\n",
    "        \n",
    "    return image"
   ]
  },
  {
   "cell_type": "code",
   "execution_count": 229,
   "id": "4d595355",
   "metadata": {},
   "outputs": [
    {
     "data": {
      "text/plain": [
       "array([  0,   1,   2,   3,   4,   5,   6,   7,   8,   9,  10,  11,  12,\n",
       "        13,  14,  15,  16,  17,  18,  19,  20,  21,  22,  23,  24,  25,\n",
       "        26,  27,  28,  29,  30,  31,  32,  33,  34,  35,  36,  37,  38,\n",
       "        39,  40,  41,  42,  43,  44,  45,  46,  47,  49,  50,  51,  52,\n",
       "        53,  54,  56,  57,  58,  59,  60,  61,  62,  63,  64,  65,  67,\n",
       "        68,  70,  72,  73,  74,  75,  76,  77,  78,  79,  80,  81,  82,\n",
       "        83,  84,  85,  87,  88,  89,  90,  91,  92,  93,  94,  95,  96,\n",
       "        97,  98,  99, 100, 101, 102, 103, 104, 106, 107, 108, 109, 110,\n",
       "       111, 112, 113, 114, 115, 116, 118, 119, 120, 121, 122, 123, 124,\n",
       "       125, 126, 127, 128, 129, 130, 131, 132, 133, 134, 135, 136, 137,\n",
       "       138, 139, 140, 141, 142, 143, 144, 145, 146, 147, 148, 150, 151,\n",
       "       152, 153, 154, 155, 156, 157, 158, 159, 160, 161, 162, 164, 165,\n",
       "       166, 167, 168, 169, 170, 172, 173, 174, 175, 176, 177, 178, 179,\n",
       "       180, 181, 182, 184, 185, 186, 187, 188, 189, 190, 191, 192, 193,\n",
       "       194, 195, 196, 197, 198, 199, 200, 202, 203, 204, 205, 206, 207,\n",
       "       208, 209, 210, 212, 213, 214, 215, 216, 217, 218, 219, 220, 221,\n",
       "       222, 223, 224, 225, 226, 227, 228, 229, 230, 231, 232, 233, 234,\n",
       "       235, 236, 237, 238, 239, 240, 241, 242, 243, 244, 245, 246, 247,\n",
       "       248, 249, 250, 251, 252, 253, 254, 255], dtype=uint8)"
      ]
     },
     "execution_count": 229,
     "metadata": {},
     "output_type": "execute_result"
    }
   ],
   "source": [
    "np.unique(np.uint8(sample_images))"
   ]
  },
  {
   "cell_type": "code",
   "execution_count": 230,
   "id": "3ebed04a",
   "metadata": {},
   "outputs": [
    {
     "data": {
      "image/png": "[encoded data removed]",
      "text/plain": [
       "<Figure size 432x288 with 1 Axes>"
      ]
     },
     "metadata": {
      "needs_background": "light"
     },
     "output_type": "display_data"
    }
   ],
   "source": [
    "display_image(np.uint8(sample_images[5]))"
   ]
  },
  {
   "cell_type": "code",
   "execution_count": 231,
   "id": "5a302d62",
   "metadata": {},
   "outputs": [],
   "source": [
    "import math"
   ]
  },
  {
   "cell_type": "code",
   "execution_count": 232,
   "id": "5600826c",
   "metadata": {},
   "outputs": [
    {
     "ename": "IndexError",
     "evalue": "index 4541 is out of bounds for axis 1 with size 96",
     "output_type": "error",
     "traceback": [
      "\u001b[0;31m---------------------------------------------------------------------------\u001b[0m",
      "\u001b[0;31mIndexError\u001b[0m                                Traceback (most recent call last)",
      "\u001b[0;32m/tmp/ipykernel_39484/1971952453.py\u001b[0m in \u001b[0;36m<module>\u001b[0;34m\u001b[0m\n\u001b[0;32m----> 1\u001b[0;31m \u001b[0mdraw_keypoints\u001b[0m\u001b[0;34m(\u001b[0m\u001b[0msample_images\u001b[0m\u001b[0;34m[\u001b[0m\u001b[0;36m0\u001b[0m\u001b[0;34m]\u001b[0m\u001b[0;34m,\u001b[0m \u001b[0msample_keypoints\u001b[0m\u001b[0;34m[\u001b[0m\u001b[0;36m0\u001b[0m\u001b[0;34m]\u001b[0m\u001b[0;34m)\u001b[0m\u001b[0;34m\u001b[0m\u001b[0;34m\u001b[0m\u001b[0m\n\u001b[0m",
      "\u001b[0;32m/tmp/ipykernel_39484/3401906508.py\u001b[0m in \u001b[0;36mdraw_keypoints\u001b[0;34m(image, keypoints)\u001b[0m\n\u001b[1;32m     17\u001b[0m         \u001b[0;32mif\u001b[0m \u001b[0mmath\u001b[0m\u001b[0;34m.\u001b[0m\u001b[0misnan\u001b[0m\u001b[0;34m(\u001b[0m\u001b[0mkeypoints\u001b[0m\u001b[0;34m[\u001b[0m\u001b[0mi\u001b[0m\u001b[0;34m]\u001b[0m\u001b[0;34m)\u001b[0m \u001b[0;32mor\u001b[0m \u001b[0mmath\u001b[0m\u001b[0;34m.\u001b[0m\u001b[0misnan\u001b[0m\u001b[0;34m(\u001b[0m\u001b[0mkeypoints\u001b[0m\u001b[0;34m[\u001b[0m\u001b[0mi\u001b[0m\u001b[0;34m+\u001b[0m\u001b[0;36m1\u001b[0m\u001b[0;34m]\u001b[0m\u001b[0;34m)\u001b[0m\u001b[0;34m:\u001b[0m\u001b[0;34m\u001b[0m\u001b[0;34m\u001b[0m\u001b[0m\n\u001b[1;32m     18\u001b[0m             \u001b[0;32mcontinue\u001b[0m\u001b[0;34m\u001b[0m\u001b[0;34m\u001b[0m\u001b[0m\n\u001b[0;32m---> 19\u001b[0;31m         \u001b[0mimage\u001b[0m\u001b[0;34m[\u001b[0m\u001b[0mint\u001b[0m\u001b[0;34m(\u001b[0m\u001b[0mkeypoints\u001b[0m\u001b[0;34m[\u001b[0m\u001b[0mi\u001b[0m\u001b[0;34m+\u001b[0m\u001b[0;36m1\u001b[0m\u001b[0;34m]\u001b[0m\u001b[0;34m)\u001b[0m\u001b[0;34m,\u001b[0m \u001b[0mint\u001b[0m\u001b[0;34m(\u001b[0m\u001b[0mkeypoints\u001b[0m\u001b[0;34m[\u001b[0m\u001b[0mi\u001b[0m\u001b[0;34m]\u001b[0m\u001b[0;34m)\u001b[0m\u001b[0;34m]\u001b[0m \u001b[0;34m=\u001b[0m \u001b[0;36m255\u001b[0m\u001b[0;34m\u001b[0m\u001b[0;34m\u001b[0m\u001b[0m\n\u001b[0m\u001b[1;32m     20\u001b[0m \u001b[0;34m\u001b[0m\u001b[0m\n\u001b[1;32m     21\u001b[0m     \u001b[0;32mreturn\u001b[0m \u001b[0mimage\u001b[0m\u001b[0;34m\u001b[0m\u001b[0;34m\u001b[0m\u001b[0m\n",
      "\u001b[0;31mIndexError\u001b[0m: index 4541 is out of bounds for axis 1 with size 96"
     ]
    }
   ],
   "source": [
    "draw_keypoints(sample_images[0], sample_keypoints[0])"
   ]
  },
  {
   "cell_type": "code",
   "execution_count": null,
   "id": "bb2e81af",
   "metadata": {},
   "outputs": [],
   "source": []
  }
 ],
 "metadata": {
  "kernelspec": {
   "display_name": "facial-keypoints-env",
   "language": "python",
   "name": "facial-keypoints-env"
  },
  "language_info": {
   "codemirror_mode": {
    "name": "ipython",
    "version": 3
   },
   "file_extension": ".py",
   "mimetype": "text/x-python",
   "name": "python",
   "nbconvert_exporter": "python",
   "pygments_lexer": "ipython3",
   "version": "3.8.10"
  }
 },
 "nbformat": 4,
 "nbformat_minor": 5
}
